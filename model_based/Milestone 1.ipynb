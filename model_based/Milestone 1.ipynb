{
 "cells": [
  {
   "cell_type": "markdown",
   "metadata": {},
   "source": [
    "# Optimizing monster kill ratio using model based machine learning"
   ]
  },
  {
   "cell_type": "code",
   "execution_count": 2,
   "metadata": {},
   "outputs": [
    {
     "data": {
      "text/html": [
       "<img src=\"https://cdn-images-1.medium.com/max/800/1*Q4XjhLC0IAOznnk5613PsQ.gif\">"
      ],
      "text/plain": [
       "<IPython.core.display.HTML object>"
      ]
     },
     "execution_count": 2,
     "metadata": {},
     "output_type": "execute_result"
    }
   ],
   "source": [
    "from IPython.display import HTML\n",
    "HTML('<img src=\"https://cdn-images-1.medium.com/max/800/1*Q4XjhLC0IAOznnk5613PsQ.gif\">')"
   ]
  },
  {
   "cell_type": "markdown",
   "metadata": {},
   "source": [
    "# Introduction"
   ]
  },
  {
   "cell_type": "markdown",
   "metadata": {},
   "source": [
    "In this project we seek to optimize the kill ratio of a monster killing reinforcement learning agent in the classic (but never out of fashion) game of Doom.\n",
    "\n",
    "We want the modeling to assist and guide the training of the agent, therefore the dataset we present here is just a trivial sample dataset in order to show the possibilites of extracting usable variables of interest. \n",
    "\n",
    "This project offers the opportunity for obtaining sequential data. We can track the evolution of the agent within one particular game and we can track various features across training. \n",
    "\n",
    "It is our hope and dream that this modelling can help us help the agent in obtaining higher kill-ratios."
   ]
  },
  {
   "cell_type": "markdown",
   "metadata": {},
   "source": [
    "# Sample data frame"
   ]
  },
  {
   "cell_type": "markdown",
   "metadata": {},
   "source": [
    "The data presented below is obtained from the basic map (shown in the .gif above). The agent is spawned along the longer wall, in the center. A red, circular monster is spawned randomly somewhere along the opposite wall. The agent can only go left/right and shoot. 1 hit is enough to kill the monster. The episode finishes when monster is killed or on timeout.\n",
    "One row in the data sample corresponds to one episode with \"step\" indicating the time step until a monster is killed, and the episode is terminated."
   ]
  },
  {
   "cell_type": "code",
   "execution_count": 12,
   "metadata": {},
   "outputs": [
    {
     "data": {
      "text/html": [
       "<div>\n",
       "<style scoped>\n",
       "    .dataframe tbody tr th:only-of-type {\n",
       "        vertical-align: middle;\n",
       "    }\n",
       "\n",
       "    .dataframe tbody tr th {\n",
       "        vertical-align: top;\n",
       "    }\n",
       "\n",
       "    .dataframe thead th {\n",
       "        text-align: right;\n",
       "    }\n",
       "</style>\n",
       "<table border=\"1\" class=\"dataframe\">\n",
       "  <thead>\n",
       "    <tr style=\"text-align: right;\">\n",
       "      <th></th>\n",
       "      <th>Unnamed: 0</th>\n",
       "      <th>step</th>\n",
       "      <th>episode</th>\n",
       "      <th>reward</th>\n",
       "      <th>explore</th>\n",
       "      <th>killcount</th>\n",
       "      <th>itemcount</th>\n",
       "      <th>secretcount</th>\n",
       "      <th>fragcount</th>\n",
       "      <th>deathcount</th>\n",
       "      <th>...</th>\n",
       "      <th>x_vel</th>\n",
       "      <th>y_vel</th>\n",
       "      <th>z_vel</th>\n",
       "      <th>cam_pos_x</th>\n",
       "      <th>cam_pos_y</th>\n",
       "      <th>cam_pos_z</th>\n",
       "      <th>cam_angle</th>\n",
       "      <th>cam_pitch</th>\n",
       "      <th>cam_roll</th>\n",
       "      <th>cam_fov</th>\n",
       "    </tr>\n",
       "  </thead>\n",
       "  <tbody>\n",
       "    <tr>\n",
       "      <th>0</th>\n",
       "      <td>0</td>\n",
       "      <td>26</td>\n",
       "      <td>0</td>\n",
       "      <td>-1.0</td>\n",
       "      <td>0.987213</td>\n",
       "      <td>1.0</td>\n",
       "      <td>0.0</td>\n",
       "      <td>0.0</td>\n",
       "      <td>0.0</td>\n",
       "      <td>0.0</td>\n",
       "      <td>...</td>\n",
       "      <td>0.0</td>\n",
       "      <td>-0.567490</td>\n",
       "      <td>0.0</td>\n",
       "      <td>-384.0</td>\n",
       "      <td>-1.948425</td>\n",
       "      <td>40.971191</td>\n",
       "      <td>0.0</td>\n",
       "      <td>0.0</td>\n",
       "      <td>0.0</td>\n",
       "      <td>90.0</td>\n",
       "    </tr>\n",
       "    <tr>\n",
       "      <th>1</th>\n",
       "      <td>1</td>\n",
       "      <td>6</td>\n",
       "      <td>1</td>\n",
       "      <td>-1.0</td>\n",
       "      <td>0.984286</td>\n",
       "      <td>1.0</td>\n",
       "      <td>0.0</td>\n",
       "      <td>0.0</td>\n",
       "      <td>0.0</td>\n",
       "      <td>0.0</td>\n",
       "      <td>...</td>\n",
       "      <td>0.0</td>\n",
       "      <td>0.057739</td>\n",
       "      <td>0.0</td>\n",
       "      <td>-384.0</td>\n",
       "      <td>31.384033</td>\n",
       "      <td>40.999695</td>\n",
       "      <td>0.0</td>\n",
       "      <td>0.0</td>\n",
       "      <td>0.0</td>\n",
       "      <td>90.0</td>\n",
       "    </tr>\n",
       "    <tr>\n",
       "      <th>2</th>\n",
       "      <td>2</td>\n",
       "      <td>43</td>\n",
       "      <td>3</td>\n",
       "      <td>-1.0</td>\n",
       "      <td>0.917057</td>\n",
       "      <td>1.0</td>\n",
       "      <td>0.0</td>\n",
       "      <td>0.0</td>\n",
       "      <td>0.0</td>\n",
       "      <td>0.0</td>\n",
       "      <td>...</td>\n",
       "      <td>0.0</td>\n",
       "      <td>-1.024170</td>\n",
       "      <td>0.0</td>\n",
       "      <td>-384.0</td>\n",
       "      <td>-4.731918</td>\n",
       "      <td>40.840363</td>\n",
       "      <td>0.0</td>\n",
       "      <td>0.0</td>\n",
       "      <td>0.0</td>\n",
       "      <td>90.0</td>\n",
       "    </tr>\n",
       "    <tr>\n",
       "      <th>3</th>\n",
       "      <td>3</td>\n",
       "      <td>64</td>\n",
       "      <td>4</td>\n",
       "      <td>-1.0</td>\n",
       "      <td>0.888490</td>\n",
       "      <td>1.0</td>\n",
       "      <td>0.0</td>\n",
       "      <td>0.0</td>\n",
       "      <td>0.0</td>\n",
       "      <td>0.0</td>\n",
       "      <td>...</td>\n",
       "      <td>0.0</td>\n",
       "      <td>1.623337</td>\n",
       "      <td>0.0</td>\n",
       "      <td>-384.0</td>\n",
       "      <td>78.887817</td>\n",
       "      <td>40.618591</td>\n",
       "      <td>0.0</td>\n",
       "      <td>0.0</td>\n",
       "      <td>0.0</td>\n",
       "      <td>90.0</td>\n",
       "    </tr>\n",
       "    <tr>\n",
       "      <th>4</th>\n",
       "      <td>4</td>\n",
       "      <td>39</td>\n",
       "      <td>6</td>\n",
       "      <td>-1.0</td>\n",
       "      <td>0.829509</td>\n",
       "      <td>1.0</td>\n",
       "      <td>0.0</td>\n",
       "      <td>0.0</td>\n",
       "      <td>0.0</td>\n",
       "      <td>0.0</td>\n",
       "      <td>...</td>\n",
       "      <td>0.0</td>\n",
       "      <td>-0.060181</td>\n",
       "      <td>0.0</td>\n",
       "      <td>-384.0</td>\n",
       "      <td>72.638855</td>\n",
       "      <td>40.999817</td>\n",
       "      <td>0.0</td>\n",
       "      <td>0.0</td>\n",
       "      <td>0.0</td>\n",
       "      <td>90.0</td>\n",
       "    </tr>\n",
       "  </tbody>\n",
       "</table>\n",
       "<p>5 rows × 38 columns</p>\n",
       "</div>"
      ],
      "text/plain": [
       "   Unnamed: 0  step  episode  reward   explore  killcount  itemcount  \\\n",
       "0           0    26        0    -1.0  0.987213        1.0        0.0   \n",
       "1           1     6        1    -1.0  0.984286        1.0        0.0   \n",
       "2           2    43        3    -1.0  0.917057        1.0        0.0   \n",
       "3           3    64        4    -1.0  0.888490        1.0        0.0   \n",
       "4           4    39        6    -1.0  0.829509        1.0        0.0   \n",
       "\n",
       "   secretcount  fragcount  deathcount  ...  x_vel     y_vel  z_vel  cam_pos_x  \\\n",
       "0          0.0        0.0         0.0  ...    0.0 -0.567490    0.0     -384.0   \n",
       "1          0.0        0.0         0.0  ...    0.0  0.057739    0.0     -384.0   \n",
       "2          0.0        0.0         0.0  ...    0.0 -1.024170    0.0     -384.0   \n",
       "3          0.0        0.0         0.0  ...    0.0  1.623337    0.0     -384.0   \n",
       "4          0.0        0.0         0.0  ...    0.0 -0.060181    0.0     -384.0   \n",
       "\n",
       "   cam_pos_y  cam_pos_z  cam_angle  cam_pitch  cam_roll  cam_fov  \n",
       "0  -1.948425  40.971191        0.0        0.0       0.0     90.0  \n",
       "1  31.384033  40.999695        0.0        0.0       0.0     90.0  \n",
       "2  -4.731918  40.840363        0.0        0.0       0.0     90.0  \n",
       "3  78.887817  40.618591        0.0        0.0       0.0     90.0  \n",
       "4  72.638855  40.999817        0.0        0.0       0.0     90.0  \n",
       "\n",
       "[5 rows x 38 columns]"
      ]
     },
     "execution_count": 12,
     "metadata": {},
     "output_type": "execute_result"
    }
   ],
   "source": [
    "import pandas as pd\n",
    "doom_example_data = pd.read_csv('doom_data.csv');\n",
    "doom_example_data.head()"
   ]
  },
  {
   "cell_type": "code",
   "execution_count": null,
   "metadata": {},
   "outputs": [],
   "source": []
  }
 ],
 "metadata": {
  "kernelspec": {
   "display_name": "Python 3",
   "language": "python",
   "name": "python3"
  },
  "language_info": {
   "codemirror_mode": {
    "name": "ipython",
    "version": 3
   },
   "file_extension": ".py",
   "mimetype": "text/x-python",
   "name": "python",
   "nbconvert_exporter": "python",
   "pygments_lexer": "ipython3",
   "version": "3.6.7"
  }
 },
 "nbformat": 4,
 "nbformat_minor": 2
}
